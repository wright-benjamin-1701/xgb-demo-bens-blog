{
 "cells": [
  {
   "cell_type": "code",
   "execution_count": null,
   "metadata": {},
   "outputs": [
    {
     "name": "stdout",
     "output_type": "stream",
     "text": [
      "Requirement already satisfied: pandas in c:\\users\\bwrig\\appdata\\local\\programs\\python\\python311\\lib\\site-packages (2.2.1)\n",
      "Requirement already satisfied: numpy<2,>=1.23.2 in c:\\users\\bwrig\\appdata\\local\\programs\\python\\python311\\lib\\site-packages (from pandas) (1.26.4)\n",
      "Requirement already satisfied: python-dateutil>=2.8.2 in c:\\users\\bwrig\\appdata\\local\\programs\\python\\python311\\lib\\site-packages (from pandas) (2.8.2)\n",
      "Requirement already satisfied: pytz>=2020.1 in c:\\users\\bwrig\\appdata\\local\\programs\\python\\python311\\lib\\site-packages (from pandas) (2024.1)\n",
      "Requirement already satisfied: tzdata>=2022.7 in c:\\users\\bwrig\\appdata\\local\\programs\\python\\python311\\lib\\site-packages (from pandas) (2024.1)\n",
      "Requirement already satisfied: six>=1.5 in c:\\users\\bwrig\\appdata\\local\\programs\\python\\python311\\lib\\site-packages (from python-dateutil>=2.8.2->pandas) (1.16.0)\n",
      "Note: you may need to restart the kernel to use updated packages.\n"
     ]
    }
   ],
   "source": [
    "# Install the libraries in your kernel\n",
    "%pip install pandas\n",
    "%pip install scikit-learn\n",
    "%pip install xgboost\n",
    "%pip install plotly\n"
   ]
  },
  {
   "cell_type": "code",
   "execution_count": 2,
   "metadata": {},
   "outputs": [],
   "source": [
    "# Make the necessary imports\n",
    "\n",
    "import pandas as pd\n",
    "from sklearn.feature_extraction.text import TfidfVectorizer\n",
    "import xgboost as xgb\n",
    "from sklearn.preprocessing import LabelEncoder\n",
    "import plotly.express as px\n",
    "#import chart_studio.plotly as py"
   ]
  },
  {
   "cell_type": "code",
   "execution_count": 3,
   "metadata": {},
   "outputs": [
    {
     "data": {
      "text/plain": [
       "13854"
      ]
     },
     "execution_count": 3,
     "metadata": {},
     "output_type": "execute_result"
    }
   ],
   "source": [
    "# Read the (training data)\n",
    "\n",
    "poems_df = pd.read_csv('poems.csv')\n",
    "len(poems_df)"
   ]
  },
  {
   "cell_type": "code",
   "execution_count": 4,
   "metadata": {},
   "outputs": [
    {
     "data": {
      "text/html": [
       "<div>\n",
       "<style scoped>\n",
       "    .dataframe tbody tr th:only-of-type {\n",
       "        vertical-align: middle;\n",
       "    }\n",
       "\n",
       "    .dataframe tbody tr th {\n",
       "        vertical-align: top;\n",
       "    }\n",
       "\n",
       "    .dataframe thead th {\n",
       "        text-align: right;\n",
       "    }\n",
       "</style>\n",
       "<table border=\"1\" class=\"dataframe\">\n",
       "  <thead>\n",
       "    <tr style=\"text-align: right;\">\n",
       "      <th></th>\n",
       "      <th>Unnamed: 0</th>\n",
       "      <th>Title</th>\n",
       "      <th>Poem</th>\n",
       "      <th>Poet</th>\n",
       "      <th>Tags</th>\n",
       "      <th>text</th>\n",
       "    </tr>\n",
       "  </thead>\n",
       "  <tbody>\n",
       "    <tr>\n",
       "      <th>0</th>\n",
       "      <td>0</td>\n",
       "      <td>\\r\\n\\r\\n                    Objects Used to Pr...</td>\n",
       "      <td>\\r\\n\\r\\nDog bone, stapler,\\r\\n\\r\\ncribbage boa...</td>\n",
       "      <td>Michelle Menting</td>\n",
       "      <td>NaN</td>\n",
       "      <td>Dog bone, stapler,    cribbage board, garl...</td>\n",
       "    </tr>\n",
       "    <tr>\n",
       "      <th>1</th>\n",
       "      <td>1</td>\n",
       "      <td>\\r\\n\\r\\n                    The New Church\\r\\n...</td>\n",
       "      <td>\\r\\n\\r\\nThe old cupola glinted above the cloud...</td>\n",
       "      <td>Lucia Cherciu</td>\n",
       "      <td>NaN</td>\n",
       "      <td>The old cupola glinted above the clouds, s...</td>\n",
       "    </tr>\n",
       "    <tr>\n",
       "      <th>2</th>\n",
       "      <td>2</td>\n",
       "      <td>\\r\\n\\r\\n                    Look for Me\\r\\n\\r\\...</td>\n",
       "      <td>\\r\\n\\r\\nLook for me under the hood\\r\\n\\r\\nof t...</td>\n",
       "      <td>Ted Kooser</td>\n",
       "      <td>NaN</td>\n",
       "      <td>Look for me under the hood    of that old ...</td>\n",
       "    </tr>\n",
       "    <tr>\n",
       "      <th>3</th>\n",
       "      <td>3</td>\n",
       "      <td>\\r\\n\\r\\n                    Wild Life\\r\\n\\r\\n ...</td>\n",
       "      <td>\\r\\n\\r\\nBehind the silo, the Mother Rabbit\\r\\n...</td>\n",
       "      <td>Grace Cavalieri</td>\n",
       "      <td>NaN</td>\n",
       "      <td>Behind the silo, the Mother Rabbit    hunc...</td>\n",
       "    </tr>\n",
       "    <tr>\n",
       "      <th>4</th>\n",
       "      <td>4</td>\n",
       "      <td>\\r\\n\\r\\n                    Umbrella\\r\\n\\r\\n  ...</td>\n",
       "      <td>\\r\\n\\r\\nWhen I push your button\\r\\n\\r\\nyou fly...</td>\n",
       "      <td>Connie Wanek</td>\n",
       "      <td>NaN</td>\n",
       "      <td>When I push your button    you fly off the...</td>\n",
       "    </tr>\n",
       "  </tbody>\n",
       "</table>\n",
       "</div>"
      ],
      "text/plain": [
       "   Unnamed: 0                                              Title  \\\n",
       "0           0  \\r\\n\\r\\n                    Objects Used to Pr...   \n",
       "1           1  \\r\\n\\r\\n                    The New Church\\r\\n...   \n",
       "2           2  \\r\\n\\r\\n                    Look for Me\\r\\n\\r\\...   \n",
       "3           3  \\r\\n\\r\\n                    Wild Life\\r\\n\\r\\n ...   \n",
       "4           4  \\r\\n\\r\\n                    Umbrella\\r\\n\\r\\n  ...   \n",
       "\n",
       "                                                Poem              Poet Tags  \\\n",
       "0  \\r\\n\\r\\nDog bone, stapler,\\r\\n\\r\\ncribbage boa...  Michelle Menting  NaN   \n",
       "1  \\r\\n\\r\\nThe old cupola glinted above the cloud...     Lucia Cherciu  NaN   \n",
       "2  \\r\\n\\r\\nLook for me under the hood\\r\\n\\r\\nof t...        Ted Kooser  NaN   \n",
       "3  \\r\\n\\r\\nBehind the silo, the Mother Rabbit\\r\\n...   Grace Cavalieri  NaN   \n",
       "4  \\r\\n\\r\\nWhen I push your button\\r\\n\\r\\nyou fly...      Connie Wanek  NaN   \n",
       "\n",
       "                                                text  \n",
       "0      Dog bone, stapler,    cribbage board, garl...  \n",
       "1      The old cupola glinted above the clouds, s...  \n",
       "2      Look for me under the hood    of that old ...  \n",
       "3      Behind the silo, the Mother Rabbit    hunc...  \n",
       "4      When I push your button    you fly off the...  "
      ]
     },
     "execution_count": 4,
     "metadata": {},
     "output_type": "execute_result"
    }
   ],
   "source": [
    "poems_df['text'] = (poems_df['Poem'].str.replace('\\n', ' ')).str.replace('\\r', ' ')\n",
    "poems_df.head()"
   ]
  },
  {
   "cell_type": "code",
   "execution_count": 5,
   "metadata": {},
   "outputs": [],
   "source": [
    "N = 10"
   ]
  },
  {
   "cell_type": "code",
   "execution_count": 6,
   "metadata": {},
   "outputs": [
    {
     "data": {
      "text/html": [
       "<div>\n",
       "<style scoped>\n",
       "    .dataframe tbody tr th:only-of-type {\n",
       "        vertical-align: middle;\n",
       "    }\n",
       "\n",
       "    .dataframe tbody tr th {\n",
       "        vertical-align: top;\n",
       "    }\n",
       "\n",
       "    .dataframe thead th {\n",
       "        text-align: right;\n",
       "    }\n",
       "</style>\n",
       "<table border=\"1\" class=\"dataframe\">\n",
       "  <thead>\n",
       "    <tr style=\"text-align: right;\">\n",
       "      <th></th>\n",
       "      <th>Poet</th>\n",
       "      <th>Unnamed: 0</th>\n",
       "      <th>Title</th>\n",
       "      <th>Poem</th>\n",
       "      <th>Tags</th>\n",
       "      <th>text</th>\n",
       "    </tr>\n",
       "  </thead>\n",
       "  <tbody>\n",
       "    <tr>\n",
       "      <th>16</th>\n",
       "      <td>William Blake</td>\n",
       "      <td>33</td>\n",
       "      <td>33</td>\n",
       "      <td>33</td>\n",
       "      <td>31</td>\n",
       "      <td>33</td>\n",
       "    </tr>\n",
       "    <tr>\n",
       "      <th>55</th>\n",
       "      <td>Mother Goose</td>\n",
       "      <td>23</td>\n",
       "      <td>23</td>\n",
       "      <td>23</td>\n",
       "      <td>23</td>\n",
       "      <td>23</td>\n",
       "    </tr>\n",
       "    <tr>\n",
       "      <th>24</th>\n",
       "      <td>Edgar Lee Masters</td>\n",
       "      <td>31</td>\n",
       "      <td>31</td>\n",
       "      <td>31</td>\n",
       "      <td>29</td>\n",
       "      <td>31</td>\n",
       "    </tr>\n",
       "    <tr>\n",
       "      <th>42</th>\n",
       "      <td>A. E. Stallings</td>\n",
       "      <td>25</td>\n",
       "      <td>25</td>\n",
       "      <td>25</td>\n",
       "      <td>22</td>\n",
       "      <td>25</td>\n",
       "    </tr>\n",
       "    <tr>\n",
       "      <th>41</th>\n",
       "      <td>Sir  Thomas Wyatt</td>\n",
       "      <td>25</td>\n",
       "      <td>25</td>\n",
       "      <td>25</td>\n",
       "      <td>24</td>\n",
       "      <td>25</td>\n",
       "    </tr>\n",
       "    <tr>\n",
       "      <th>43</th>\n",
       "      <td>Naomi Shihab Nye</td>\n",
       "      <td>25</td>\n",
       "      <td>25</td>\n",
       "      <td>25</td>\n",
       "      <td>21</td>\n",
       "      <td>25</td>\n",
       "    </tr>\n",
       "    <tr>\n",
       "      <th>66</th>\n",
       "      <td>Wendy Videlock</td>\n",
       "      <td>21</td>\n",
       "      <td>21</td>\n",
       "      <td>21</td>\n",
       "      <td>20</td>\n",
       "      <td>21</td>\n",
       "    </tr>\n",
       "    <tr>\n",
       "      <th>87</th>\n",
       "      <td>Gerard Manley Hopkins</td>\n",
       "      <td>19</td>\n",
       "      <td>19</td>\n",
       "      <td>19</td>\n",
       "      <td>19</td>\n",
       "      <td>19</td>\n",
       "    </tr>\n",
       "    <tr>\n",
       "      <th>83</th>\n",
       "      <td>Carl Phillips</td>\n",
       "      <td>20</td>\n",
       "      <td>20</td>\n",
       "      <td>20</td>\n",
       "      <td>20</td>\n",
       "      <td>20</td>\n",
       "    </tr>\n",
       "    <tr>\n",
       "      <th>15</th>\n",
       "      <td>Samuel Menashe</td>\n",
       "      <td>33</td>\n",
       "      <td>33</td>\n",
       "      <td>33</td>\n",
       "      <td>30</td>\n",
       "      <td>33</td>\n",
       "    </tr>\n",
       "  </tbody>\n",
       "</table>\n",
       "</div>"
      ],
      "text/plain": [
       "                     Poet  Unnamed: 0  Title  Poem  Tags  text\n",
       "16          William Blake          33     33    33    31    33\n",
       "55           Mother Goose          23     23    23    23    23\n",
       "24      Edgar Lee Masters          31     31    31    29    31\n",
       "42        A. E. Stallings          25     25    25    22    25\n",
       "41      Sir  Thomas Wyatt          25     25    25    24    25\n",
       "43       Naomi Shihab Nye          25     25    25    21    25\n",
       "66         Wendy Videlock          21     21    21    20    21\n",
       "87  Gerard Manley Hopkins          19     19    19    19    19\n",
       "83          Carl Phillips          20     20    20    20    20\n",
       "15         Samuel Menashe          33     33    33    30    33"
      ]
     },
     "execution_count": 6,
     "metadata": {},
     "output_type": "execute_result"
    }
   ],
   "source": [
    "poems_df.groupby('Poet').count().sort_values(['Title'], ascending = False).reset_index().head(100).sample(10)"
   ]
  },
  {
   "cell_type": "code",
   "execution_count": 30,
   "metadata": {},
   "outputs": [],
   "source": [
    "top_poets = poems_df.groupby('Poet').count().sort_values(['Title'], ascending = False).reset_index().head(100)['Poet'].values\n"
   ]
  },
  {
   "cell_type": "code",
   "execution_count": 41,
   "metadata": {},
   "outputs": [],
   "source": [
    "def experiment(state,N):\n",
    "    top_poets = poems_df.groupby('Poet').count().sort_values(['Title'], ascending = False).reset_index().head(100).sample(N,random_state=state)['Poet'].values\n",
    "    poems_sdf = poems_df[poems_df['Poet'].isin(top_poets)]\n",
    "    \n",
    "    vectorizer = TfidfVectorizer(max_features=5000,stop_words='english',min_df =.05,max_df=.95)\n",
    "    vectors = vectorizer.fit_transform(poems_sdf['text']) \n",
    "    le = LabelEncoder()\n",
    "    y_encoded = le.fit_transform(poems_sdf['Poet'])\n",
    "    \n",
    "    #data_dmatrix = xgb.DMatrix(data=vectors,label=y_encoded)\n",
    "    #params = {'random_state':'42','num_class':N,'device':'gpu','max_depth':7,'eta':.1}\n",
    "    \n",
    "    #xgb_cv = xgb.cv(dtrain=data_dmatrix,params=params, nfold=5,metrics='merror')\n",
    "    #print(xgb_cv)\n",
    "    \n",
    "    T = int(len(poems_sdf)*.8)\n",
    "    model = xgb.XGBClassifier(random_state=42)\n",
    "    model.fit(vectors[:T],y_encoded[:T])\n",
    "    \n",
    "    score = model.score(vectors[T:],y_encoded[T:])\n",
    "    print(f'Accuracy round {state+1}: ',score)\n",
    "    return(score)"
   ]
  },
  {
   "cell_type": "code",
   "execution_count": 43,
   "metadata": {},
   "outputs": [
    {
     "name": "stdout",
     "output_type": "stream",
     "text": [
      "Accuracy round 1:  0.37254901960784315\n",
      "Accuracy round 2:  0.21739130434782608\n",
      "Accuracy round 3:  0.3225806451612903\n",
      "Accuracy round 4:  0.46\n",
      "Accuracy round 5:  0.5660377358490566\n",
      "Average accuracy:  0.38771174099320327\n"
     ]
    }
   ],
   "source": [
    "total = 0\n",
    "\n",
    "#number of experimental rounds\n",
    "E = 5\n",
    "\n",
    "#number of poets to include in each experiment\n",
    "N = 10\n",
    "\n",
    "for i in range(E):\n",
    "    total+= experiment(i,N)\n",
    "\n",
    "print('Average accuracy: ',total/E)"
   ]
  },
  {
   "cell_type": "code",
   "execution_count": 44,
   "metadata": {},
   "outputs": [],
   "source": [
    "# Translates the genres into numerical categories\n",
    "\n"
   ]
  },
  {
   "cell_type": "code",
   "execution_count": 12,
   "metadata": {},
   "outputs": [],
   "source": [
    "# Specify our training data and training labels for xgboost\n",
    "\n"
   ]
  },
  {
   "cell_type": "code",
   "execution_count": null,
   "metadata": {},
   "outputs": [],
   "source": [
    "# Running cross-validation for our XGB Classifier model gives a good idea of our model's accuracy\n",
    "\n"
   ]
  },
  {
   "cell_type": "code",
   "execution_count": null,
   "metadata": {},
   "outputs": [],
   "source": [
    "\n",
    "\n"
   ]
  }
 ],
 "metadata": {
  "kernelspec": {
   "display_name": "Python 3",
   "language": "python",
   "name": "python3"
  },
  "language_info": {
   "codemirror_mode": {
    "name": "ipython",
    "version": 3
   },
   "file_extension": ".py",
   "mimetype": "text/x-python",
   "name": "python",
   "nbconvert_exporter": "python",
   "pygments_lexer": "ipython3",
   "version": "3.11.8"
  }
 },
 "nbformat": 4,
 "nbformat_minor": 2
}
